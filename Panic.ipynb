{
  "nbformat": 4,
  "nbformat_minor": 0,
  "metadata": {
    "colab": {
      "provenance": [],
      "authorship_tag": "ABX9TyMxgFI71mN9HEYrBy7QNCI+",
      "include_colab_link": true
    },
    "kernelspec": {
      "name": "python3",
      "display_name": "Python 3"
    },
    "language_info": {
      "name": "python"
    }
  },
  "cells": [
    {
      "cell_type": "markdown",
      "metadata": {
        "id": "view-in-github",
        "colab_type": "text"
      },
      "source": [
        "<a href=\"https://colab.research.google.com/github/adrianriverar/Proyecto/blob/main/Panic.ipynb\" target=\"_parent\"><img src=\"https://colab.research.google.com/assets/colab-badge.svg\" alt=\"Open In Colab\"/></a>"
      ]
    },
    {
      "cell_type": "code",
      "source": [
        "import pycxsimulator\n",
        "from pylab import *\n",
        "\n",
        "n = 100 # size of space: n x n\n",
        "p = 0.24 # probability of initially panicky individuals\n",
        "\n",
        "def initialize():\n",
        "    global config, nextconfig\n",
        "    config = zeros([n, n])\n",
        "    for x in range(n):\n",
        "        for y in range(n):\n",
        "            config[x, y] = 1 if random() < p else 0\n",
        "    nextconfig = zeros([n, n])\n",
        "\n",
        "def observe():\n",
        "    global config, nextconfig\n",
        "    cla()\n",
        "    imshow(config, vmin = 0, vmax = 1, cmap = cm.binary)\n",
        "\n",
        "def update():\n",
        "    global config, nextconfig\n",
        "    for x in range(n):\n",
        "        for y in range(n):\n",
        "            count = 0\n",
        "            for dx in [-1, 0, 1]:\n",
        "                for dy in [-1, 0, 1]:\n",
        "                    count += config[(x + dx) % n, (y + dy) % n]\n",
        "            nextconfig[x, y] = 1 if count >= 4 else 0\n",
        "    config, nextconfig = nextconfig, config\n",
        "\n",
        "pycxsimulator.GUI().start(func=[initialize, observe, update])"
      ],
      "metadata": {
        "colab": {
          "base_uri": "https://localhost:8080/",
          "height": 375
        },
        "id": "-ggzT17D7k0C",
        "outputId": "d1108f49-237c-487e-d0f2-8cc528ee0036"
      },
      "execution_count": 2,
      "outputs": [
        {
          "output_type": "error",
          "ename": "ModuleNotFoundError",
          "evalue": "ignored",
          "traceback": [
            "\u001b[0;31m---------------------------------------------------------------------------\u001b[0m",
            "\u001b[0;31mModuleNotFoundError\u001b[0m                       Traceback (most recent call last)",
            "\u001b[0;32m<ipython-input-2-1e868e0b2e5e>\u001b[0m in \u001b[0;36m<cell line: 1>\u001b[0;34m()\u001b[0m\n\u001b[0;32m----> 1\u001b[0;31m \u001b[0;32mimport\u001b[0m \u001b[0mpycxsimulator\u001b[0m\u001b[0;34m\u001b[0m\u001b[0;34m\u001b[0m\u001b[0m\n\u001b[0m\u001b[1;32m      2\u001b[0m \u001b[0;32mfrom\u001b[0m \u001b[0mpylab\u001b[0m \u001b[0;32mimport\u001b[0m \u001b[0;34m*\u001b[0m\u001b[0;34m\u001b[0m\u001b[0;34m\u001b[0m\u001b[0m\n\u001b[1;32m      3\u001b[0m \u001b[0;34m\u001b[0m\u001b[0m\n\u001b[1;32m      4\u001b[0m \u001b[0mn\u001b[0m \u001b[0;34m=\u001b[0m \u001b[0;36m100\u001b[0m \u001b[0;31m# size of space: n x n\u001b[0m\u001b[0;34m\u001b[0m\u001b[0;34m\u001b[0m\u001b[0m\n\u001b[1;32m      5\u001b[0m \u001b[0mp\u001b[0m \u001b[0;34m=\u001b[0m \u001b[0;36m0.24\u001b[0m \u001b[0;31m# probability of initially panicky individuals\u001b[0m\u001b[0;34m\u001b[0m\u001b[0;34m\u001b[0m\u001b[0m\n",
            "\u001b[0;31mModuleNotFoundError\u001b[0m: No module named 'pycxsimulator'",
            "",
            "\u001b[0;31m---------------------------------------------------------------------------\u001b[0;32m\nNOTE: If your import is failing due to a missing package, you can\nmanually install dependencies using either !pip or !apt.\n\nTo view examples of installing some common dependencies, click the\n\"Open Examples\" button below.\n\u001b[0;31m---------------------------------------------------------------------------\u001b[0m\n"
          ],
          "errorDetails": {
            "actions": [
              {
                "action": "open_url",
                "actionText": "Open Examples",
                "url": "/notebooks/snippets/importing_libraries.ipynb"
              }
            ]
          }
        }
      ]
    }
  ]
}